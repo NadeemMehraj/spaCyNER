{
 "cells": [
  {
   "cell_type": "code",
   "execution_count": null,
   "metadata": {},
   "outputs": [],
   "source": [
    "import os\n",
    "import shutil"
   ]
  },
  {
   "cell_type": "code",
   "execution_count": null,
   "metadata": {},
   "outputs": [],
   "source": [
    "with open('C:/Users/applied informatics/Documents/result_only_protocols.txt', 'r') as f:\n",
    "    data = f.read()"
   ]
  },
  {
   "cell_type": "code",
   "execution_count": null,
   "metadata": {},
   "outputs": [],
   "source": [
    "data = data.split('\\n')"
   ]
  },
  {
   "cell_type": "code",
   "execution_count": null,
   "metadata": {},
   "outputs": [],
   "source": [
    "len(data)"
   ]
  },
  {
   "cell_type": "code",
   "execution_count": null,
   "metadata": {},
   "outputs": [],
   "source": [
    "sourceDir = \"C:\\\\Users\\\\applied informatics\\\\Documents\\\\ocrd_text\\\\result_text\""
   ]
  },
  {
   "cell_type": "code",
   "execution_count": null,
   "metadata": {},
   "outputs": [],
   "source": [
    "destDir = \"C:\\\\Users\\\\applied informatics\\\\pipVirtualEnvironments\\\\nlpVenv\\\\workContents\\\\protocolDocumentsText\""
   ]
  },
  {
   "cell_type": "code",
   "execution_count": null,
   "metadata": {},
   "outputs": [],
   "source": [
    "# Copy only those files whose name is in list data\n",
    "numberOfFilesCopied = 0\n",
    "\n",
    "for protoFileName in data:\n",
    "    fullProtoFileName = os.path.join(sourceDir,protoFileName + '.txt')\n",
    "    if os.path.isfile(fullProtoFileName):\n",
    "        shutil.copy(fullProtoFileName, destDir)\n",
    "        numberOfFilesCopied += 1\n",
    "        \n",
    "print(\"Number of files copied: \", numberOfFilesCopied)"
   ]
  }
 ],
 "metadata": {
  "kernelspec": {
   "display_name": "Python 3",
   "language": "python",
   "name": "python3"
  },
  "language_info": {
   "codemirror_mode": {
    "name": "ipython",
    "version": 3
   },
   "file_extension": ".py",
   "mimetype": "text/x-python",
   "name": "python",
   "nbconvert_exporter": "python",
   "pygments_lexer": "ipython3",
   "version": "3.7.3"
  }
 },
 "nbformat": 4,
 "nbformat_minor": 2
}
