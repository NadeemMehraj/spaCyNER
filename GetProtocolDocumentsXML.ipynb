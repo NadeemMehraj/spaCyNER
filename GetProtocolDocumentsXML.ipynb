{
 "cells": [
  {
   "cell_type": "code",
   "execution_count": null,
   "metadata": {},
   "outputs": [],
   "source": [
    "import glob\n",
    "import os\n",
    "import shutil"
   ]
  },
  {
   "cell_type": "code",
   "execution_count": null,
   "metadata": {},
   "outputs": [],
   "source": [
    "protoDocsFileNameList = os.listdir('C:\\\\Users\\\\applied informatics\\\\pipVirtualEnvironments\\\\nlpVenv\\\\workContents\\\\protocolDocumentsText')\n",
    "protoDocsFileNameList.remove(\".spyproject\")\n",
    "len(protoDocsFileNameList)"
   ]
  },
  {
   "cell_type": "code",
   "execution_count": null,
   "metadata": {},
   "outputs": [],
   "source": [
    "xmlSearchDir = \"C:\\\\Users\\\\applied informatics\\\\pipVirtualEnvironments\\\\nlpVenv\\\\workContents\\\\nerXMLData\""
   ]
  },
  {
   "cell_type": "code",
   "execution_count": null,
   "metadata": {},
   "outputs": [],
   "source": [
    "destDir = \"C:\\\\Users\\\\applied informatics\\\\pipVirtualEnvironments\\\\nlpVenv\\\\workContents\\\\protocolDocumentsXML\""
   ]
  },
  {
   "cell_type": "code",
   "execution_count": null,
   "metadata": {},
   "outputs": [],
   "source": [
    "numberOfFilesCopied = 0\n",
    "\n",
    "for protoDocFileName in protoDocsFileNameList:\n",
    "    protoDocFileName = protoDocFileName[:protoDocFileName.find(\"_\")]\n",
    "    searchFileName = os.path.join(xmlSearchDir, protoDocFileName + \".xml\")\n",
    "    \n",
    "    if os.path.isfile(searchFileName):\n",
    "        shutil.copy(searchFileName, destDir)\n",
    "        numberOfFilesCopied += 1\n",
    "        \n",
    "print(\"Number of files copied: \", numberOfFilesCopied)"
   ]
  }
 ],
 "metadata": {
  "kernelspec": {
   "display_name": "Python 3",
   "language": "python",
   "name": "python3"
  },
  "language_info": {
   "codemirror_mode": {
    "name": "ipython",
    "version": 3
   },
   "file_extension": ".py",
   "mimetype": "text/x-python",
   "name": "python",
   "nbconvert_exporter": "python",
   "pygments_lexer": "ipython3",
   "version": "3.7.3"
  }
 },
 "nbformat": 4,
 "nbformat_minor": 2
}
